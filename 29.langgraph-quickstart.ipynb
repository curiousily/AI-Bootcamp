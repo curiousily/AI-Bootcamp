{
 "cells": [
  {
   "cell_type": "code",
   "execution_count": 1,
   "id": "a0daa83e",
   "metadata": {},
   "outputs": [],
   "source": [
    "from dataclasses import dataclass, field\n",
    "from typing import Annotated, List, TypedDict\n",
    "\n",
    "from IPython.display import Image, display\n",
    "from langchain.chat_models import init_chat_model\n",
    "from langchain_community.embeddings import FastEmbedEmbeddings\n",
    "from langchain_core.documents import Document\n",
    "from langchain_core.messages import AnyMessage, HumanMessage\n",
    "from langchain_core.prompts import ChatPromptTemplate\n",
    "from langchain_core.tools import tool\n",
    "from langchain_core.vectorstores import InMemoryVectorStore\n",
    "from langgraph.graph import END, StateGraph\n",
    "from langgraph.graph.message import add_messages\n",
    "from langgraph.prebuilt import ToolNode"
   ]
  },
  {
   "cell_type": "code",
   "execution_count": 2,
   "id": "06bbc3e2",
   "metadata": {},
   "outputs": [],
   "source": [
    "llm = init_chat_model(\"qwen3:8b\", model_provider=\"ollama\")"
   ]
  },
  {
   "cell_type": "markdown",
   "id": "ebc97858",
   "metadata": {},
   "source": [
    "## Workflow\n"
   ]
  },
  {
   "cell_type": "code",
   "execution_count": 3,
   "id": "62e5f1bf",
   "metadata": {},
   "outputs": [],
   "source": [
    "@dataclass\n",
    "class TicketTriageState:\n",
    "    ticket_text: str\n",
    "    classification: str = \"\"\n",
    "    retrieved_docs: List[Document] = field(default_factory=lambda: [])\n",
    "    draft_response: str = \"\"\n",
    "    evaluation_feedback: str = \"\"\n",
    "    revision_count: int = 0"
   ]
  },
  {
   "cell_type": "markdown",
   "id": "5cc42d02",
   "metadata": {},
   "source": [
    "### Nodes\n"
   ]
  },
  {
   "cell_type": "code",
   "execution_count": 4,
   "id": "7de50f9f",
   "metadata": {},
   "outputs": [],
   "source": [
    "CLASSIFY_PROMPT = \"\"\"\n",
    "Classify this support ticket into one of the following categories: \n",
    "'Technical Issue', 'Billing Inquiry', 'General Question'. \n",
    "\n",
    "<ticket>\n",
    "{ticket_text}\n",
    "</ticket>\n",
    "\"\"\".strip()\n",
    "\n",
    "\n",
    "def classify_ticket(state: TicketTriageState) -> dict:\n",
    "    classification = llm.invoke(CLASSIFY_PROMPT.format(ticket_text=state.ticket_text))\n",
    "    return {\"classification\": classification}"
   ]
  },
  {
   "cell_type": "code",
   "execution_count": 5,
   "id": "9bc073a2",
   "metadata": {},
   "outputs": [],
   "source": [
    "knowledge_base = [\n",
    "    \"For login issues, tell the user to try resetting their password via the 'Forgot Password' link.\",\n",
    "    \"Billing inquiries should be escalated to the billing department by creating a ticket in Salesforce.\",\n",
    "    \"The app is known to crash on startup if the user's cache is corrupted. The standard fix is to clear the application cache.\",\n",
    "]\n",
    "\n",
    "embeddings = FastEmbedEmbeddings()\n",
    "vector_store = InMemoryVectorStore.from_texts(knowledge_base, embeddings)\n",
    "retriever = vector_store.as_retriever()\n",
    "\n",
    "\n",
    "def retrieve_knowledge(state: TicketTriageState) -> dict:\n",
    "    retrieved_docs = retriever.invoke(state.ticket_text)\n",
    "    return {\"retrieved_docs\": retrieved_docs}"
   ]
  },
  {
   "cell_type": "code",
   "execution_count": 6,
   "id": "fd8470c3",
   "metadata": {},
   "outputs": [],
   "source": [
    "DRAFT_PROMPT = \"\"\"\n",
    "Based on this context:\n",
    "<context>\n",
    "{context}\n",
    "</context>\n",
    "\n",
    "Draft a response for this ticket:\n",
    "<ticket>\n",
    "{ticket_text}\n",
    "</ticket>\n",
    "\"\"\".strip()\n",
    "\n",
    "\n",
    "def draft_response(state: TicketTriageState) -> dict:\n",
    "    context = \"\\n\".join([doc.page_content for doc in state.retrieved_docs])\n",
    "    prompt = DRAFT_PROMPT.format(context=context, ticket_text=state.ticket_text)\n",
    "    draft = llm.invoke(prompt)\n",
    "    return {\"draft_response\": draft}"
   ]
  },
  {
   "cell_type": "code",
   "execution_count": 7,
   "id": "b9b59a5f",
   "metadata": {},
   "outputs": [],
   "source": [
    "EVALUATE_PROMPT = \"\"\"\n",
    "Does this draft \n",
    "<draft>\n",
    "{draft_response}\n",
    "</draft>\n",
    "\n",
    "fully address the ticket \n",
    "\n",
    "<ticket>\n",
    "{ticket_text}\n",
    "</ticket>\n",
    " \n",
    "If not, provide feedback. \n",
    "Respond with 'PASS' or 'FAIL: [feedback]'.\"\n",
    "\"\"\".strip()\n",
    "\n",
    "\n",
    "def evaluate_draft(state: TicketTriageState) -> dict:\n",
    "    evaluation_prompt = EVALUATE_PROMPT.format(\n",
    "        draft_response=state.draft_response, ticket_text=state.ticket_text\n",
    "    )\n",
    "    evaluation_result = llm.invoke(evaluation_prompt)\n",
    "    revision_count = state.revision_count + 1\n",
    "    return {\"evaluation_feedback\": evaluation_result, \"revision_count\": revision_count}"
   ]
  },
  {
   "cell_type": "code",
   "execution_count": 8,
   "id": "f27df2c8",
   "metadata": {},
   "outputs": [],
   "source": [
    "REVISE_PROMPT = \"\"\"\n",
    "Revise this draft:\n",
    "<draft>\n",
    "{draft_response}\n",
    "</draft>\n",
    "\n",
    "based on the following feedback:\n",
    "\n",
    "<feedback>\n",
    "{evaluation_feedback}\n",
    "</feedback>\n",
    "\"\"\".strip()\n",
    "\n",
    "\n",
    "def revise_response(state: TicketTriageState) -> dict:\n",
    "    revised_draft = llm.invoke(\n",
    "        REVISE_PROMPT.format(\n",
    "            draft_response=state.draft_response,\n",
    "            evaluation_feedback=state.evaluation_feedback,\n",
    "        )\n",
    "    )\n",
    "    return {\"draft_response\": revised_draft}"
   ]
  },
  {
   "cell_type": "code",
   "execution_count": 9,
   "id": "c32526ef",
   "metadata": {},
   "outputs": [],
   "source": [
    "def should_revise(state: TicketTriageState) -> str:\n",
    "    feedback = state.evaluation_feedback\n",
    "    revision_count = state.revision_count\n",
    "\n",
    "    if \"FAIL\" in feedback and revision_count < 3:\n",
    "        return \"revise\"\n",
    "    else:\n",
    "        return \"end\""
   ]
  },
  {
   "cell_type": "markdown",
   "id": "59dc8e07",
   "metadata": {},
   "source": [
    "### Graph\n"
   ]
  },
  {
   "cell_type": "code",
   "execution_count": 10,
   "id": "60f3b5fa",
   "metadata": {},
   "outputs": [],
   "source": [
    "graph = StateGraph(TicketTriageState)\n",
    "\n",
    "# Nodes\n",
    "graph.add_node(\"classify\", classify_ticket)\n",
    "graph.add_node(\"retrieve\", retrieve_knowledge)\n",
    "graph.add_node(\"draft\", draft_response)\n",
    "graph.add_node(\"evaluate\", evaluate_draft)\n",
    "graph.add_node(\"revise\", revise_response)\n",
    "\n",
    "\n",
    "# Edges\n",
    "graph.add_edge(\"classify\", \"retrieve\")\n",
    "graph.add_edge(\"retrieve\", \"draft\")\n",
    "graph.add_edge(\"draft\", \"evaluate\")\n",
    "\n",
    "graph.add_edge(\"revise\", \"evaluate\")\n",
    "\n",
    "graph.add_conditional_edges(\n",
    "    \"evaluate\",\n",
    "    should_revise,\n",
    "    {\n",
    "        \"revise\": \"revise\",\n",
    "        \"end\": END,\n",
    "    },\n",
    ")\n",
    "\n",
    "graph.set_entry_point(\"classify\")\n",
    "app = graph.compile()"
   ]
  },
  {
   "cell_type": "code",
   "execution_count": 11,
   "id": "00e332d9",
   "metadata": {},
   "outputs": [
    {
     "data": {
      "image/png": "[encoded data removed]",
      "text/plain": [
       "<IPython.core.display.Image object>"
      ]
     },
     "metadata": {},
     "output_type": "display_data"
    }
   ],
   "source": [
    "display(Image(app.get_graph().draw_mermaid_png()))"
   ]
  },
  {
   "cell_type": "markdown",
   "id": "1ffd2cf0",
   "metadata": {},
   "source": [
    "## Run the Workflow\n"
   ]
  },
  {
   "cell_type": "code",
   "execution_count": 12,
   "id": "9561ff07",
   "metadata": {},
   "outputs": [],
   "source": [
    "initial_state = TicketTriageState(ticket_text=\"My login is broken, please help!\")\n",
    "final_state = app.invoke(initial_state)"
   ]
  },
  {
   "cell_type": "code",
   "execution_count": 13,
   "id": "8564e662",
   "metadata": {},
   "outputs": [
    {
     "name": "stdout",
     "output_type": "stream",
     "text": [
      "<think>\n",
      "Okay, let me figure out how to classify this support ticket. The user says, \"My login is broken, please help!\" So first, I need to determine which category this falls into: Technical Issue, Billing Inquiry, or General Question.\n",
      "\n",
      "Looking at the message, the user is having trouble with their login. That sounds like a problem with the website or application they're using. Login issues typically relate to technical problems, like authentication errors, server issues, or account lockouts. Since the user is asking for help with a broken login, it's probably a technical issue. \n",
      "\n",
      "Billing inquiries usually involve questions about payments, invoices, subscriptions, etc. The user didn't mention anything related to billing, so that's probably not it. A general question might be something like needing help finding a feature or understanding a policy, but the user is specifically talking about their login not working. \n",
      "\n",
      "So, based on the description, the most appropriate category is 'Technical Issue'.\n",
      "</think>\n",
      "\n",
      "The support ticket should be classified under **'Technical Issue'**. \n",
      "\n",
      "**Reason:** The user is reporting a problem with their login functionality, which is a technical malfunction related to account access or system performance. This does not pertain to billing or general inquiries.\n"
     ]
    }
   ],
   "source": [
    "print(final_state[\"classification\"].content)"
   ]
  },
  {
   "cell_type": "code",
   "execution_count": 14,
   "id": "0037f489",
   "metadata": {},
   "outputs": [
    {
     "name": "stdout",
     "output_type": "stream",
     "text": [
      "1\n"
     ]
    }
   ],
   "source": [
    "print(final_state[\"revision_count\"])"
   ]
  },
  {
   "cell_type": "code",
   "execution_count": 15,
   "id": "798ef107",
   "metadata": {},
   "outputs": [
    {
     "name": "stdout",
     "output_type": "stream",
     "text": [
      "<think>\n",
      "Okay, the user is having a login issue. Let me check the context provided. The first point says to tell them to try resetting their password via the 'Forgot Password' link. So that's the first step I should mention. \n",
      "\n",
      "Wait, but maybe their cache is corrupted too? The context mentions that the app crashes on startup if the cache is corrupted, and the fix is to clear the cache. But the user's issue is login, not a crash on startup. Hmm, but maybe the cache issue could be related. Should I mention clearing the cache as an additional step?\n",
      "\n",
      "The context also says billing inquiries go to Salesforce, but this is a login issue, so that's probably not relevant here. \n",
      "\n",
      "So the main steps are: reset password via the Forgot Password link. Then, if that doesn't work, maybe check the cache. But the user's ticket is just \"My login is broken, please help!\" So I should prioritize the password reset first. Maybe mention that if they can't reset the password, they can try clearing the cache. But I need to make sure I'm not adding steps that aren't in the context. The context says the app crashes on startup if the cache is corrupted, but the user's issue is login. So maybe the cache issue isn't directly causing the login problem. \n",
      "\n",
      "Wait, maybe the login issue could be related to the cache. For example, if the cache is corrupted, maybe the login process is affected. But the context says the app crashes on startup. So perhaps the login issue is a separate problem. \n",
      "\n",
      "Therefore, the primary action is to direct them to the Forgot Password link. Then, if that doesn't work, maybe suggest clearing the cache. But I should make sure to follow the context exactly. The context says for login issues, tell them to try resetting their password. The cache issue is for app crashes on startup. So maybe the user's login issue is separate. \n",
      "\n",
      "So the response should be: guide them to use the Forgot Password link. If that doesn't resolve it, then maybe they should check for other issues. But the context doesn't mention other steps for login. So the answer should focus on the password reset. \n",
      "\n",
      "Therefore, the response should start with the password reset step, and then mention the cache clearing as a possible additional step if needed, but clarify that the main step is the password reset. Let me check the context again to be sure. Yes, the first point is for login issues, so that's the primary action. The cache issue is a separate problem. So the answer should be to reset the password. If that doesn't work, maybe they can try clearing the cache. But I need to make sure I'm not adding steps beyond the context. The context doesn't say to clear cache for login issues, only for app crashes. So maybe just the password reset. \n",
      "\n",
      "Wait, the user's login is broken. Maybe the login issue is due to the cache being corrupted. But the context says the app crashes on startup if the cache is corrupted. So perhaps the user is experiencing a crash on startup, but they mentioned login is broken. Maybe they're getting an error during login. \n",
      "\n",
      "In any case, based on the context, the first step is to direct them to the password reset. The cache clearing is for a different issue. So the response should focus on the password reset. \n",
      "\n",
      "So the answer would be: \n",
      "\n",
      "\"Your login issue can be resolved by resetting your password using the 'Forgot Password' link. If you're still experiencing issues after attempting this, please try clearing the application cache. If the problem persists, please provide additional details so we can assist further.\"\n",
      "\n",
      "Wait, but the context says the cache issue is for app crashes on startup. So maybe the user is not experiencing a crash, just login issues. Therefore, the cache clearing might not be relevant. But the user might have a corrupted cache that's causing login problems. However, the context doesn't explicitly say that. So maybe the safest approach is to follow the context's instructions strictly. The first point is for login issues, so the main action is the password reset. The cache clearing is for app crashes. So the response should only mention the password reset. \n",
      "\n",
      "But the user's ticket is \"My login is broken, please help!\" So maybe they are having trouble logging in, which could be due to a password issue or cache. However, according to the context, the first step is to reset the password. So the answer should start with that. If they can't, then maybe check the cache. But the context doesn't mention that for login issues. \n",
      "\n",
      "Hmm, I need to stick to the context. The context says: For login issues, tell the user to try resetting their password via the 'Forgot Password' link. The app is known to crash on startup if the user's cache is corrupted. The standard fix is to clear the application cache. Billing inquiries should be escalated to the billing department by creating a ticket in Salesforce.\n",
      "\n",
      "So the answer should be: \n",
      "\n",
      "\"Your login issue can be resolved by resetting your password using the 'Forgot Password' link. If you continue to experience issues, please try clearing the application cache. If the problem persists, please provide additional details so we can assist further.\"\n",
      "\n",
      "But the cache clearing is for app crashes, not login issues. However, the user's login is broken, which might be related to the cache. But the context doesn't specify that. So maybe the answer should only mention the password reset. But to be thorough, maybe include the cache step as an additional possible solution. However, the context doesn't say that. \n",
      "\n",
      "So the correct approach is to follow the context's instruction strictly. Therefore, the response should be to direct them to the password reset. The cache clearing is for a different issue. \n",
      "\n",
      "Therefore, the response is: \n",
      "\n",
      "\"Your login issue can be resolved by resetting your password using the 'Forgot Password' link. If you are still unable to log in, please provide further details so we can assist you.\"\n",
      "\n",
      "But maybe the user's login issue is due to the cache, but the context doesn't say that. So it's better to follow the given instructions. So the answer is just the password reset. \n",
      "\n",
      "But the user might have a cache issue that's causing the login problem, even though the context says the cache issue causes app crashes. Maybe the user is experiencing a login issue due to a corrupted cache. But the context doesn't explicitly state that. \n",
      "\n",
      "In the absence of more information, the safest answer is to follow the context's first instruction. So the response is to reset the password. \n",
      "\n",
      "Therefore, the answer is: \n",
      "\n",
      "\"Your login issue can be resolved by resetting your password using the 'Forgot Password' link. If you continue to experience issues, please provide additional details so we can assist further.\"\n",
      "</think>\n",
      "\n",
      "**Ticket Response:**  \n",
      "Your login issue can be resolved by resetting your password using the 'Forgot Password' link. If you continue to experience issues, please provide additional details so we can assist further.\n"
     ]
    }
   ],
   "source": [
    "print(final_state[\"draft_response\"].content)"
   ]
  },
  {
   "cell_type": "markdown",
   "id": "a60d5763",
   "metadata": {},
   "source": [
    "## Agent\n"
   ]
  },
  {
   "cell_type": "markdown",
   "id": "3ed1d254",
   "metadata": {},
   "source": [
    "### Tools\n"
   ]
  },
  {
   "cell_type": "code",
   "execution_count": 16,
   "id": "151fdbf8",
   "metadata": {},
   "outputs": [],
   "source": [
    "@tool\n",
    "def classify_ticket(ticket_text: str) -> str:\n",
    "    \"\"\"\n",
    "    Classifies a support ticket into 'Technical Issue', 'Billing Inquiry', or 'General Question'.\n",
    "    Use this tool first to understand the nature of the ticket.\n",
    "    \"\"\"\n",
    "    return llm.invoke(CLASSIFY_PROMPT.format(ticket_text=ticket_text)).content.strip()\n",
    "\n",
    "\n",
    "@tool\n",
    "def retrieve_knowledge(ticket_text: str) -> list[str]:\n",
    "    \"\"\"\n",
    "    Retrieves relevant knowledge base articles for a given ticket.\n",
    "    Use this for 'Technical Issue' tickets to find potential solutions.\n",
    "    \"\"\"\n",
    "    return [doc.page_content for doc in retriever.invoke(ticket_text)]\n",
    "\n",
    "\n",
    "@tool\n",
    "def draft_response(ticket_text: str, context: list[str]) -> str:\n",
    "    \"\"\"\n",
    "    Drafts a helpful response to a support ticket, using provided context.\n",
    "    \"\"\"\n",
    "    context_str = \"\\n\".join([doc for doc in context])\n",
    "    return llm.invoke(\n",
    "        DRAFT_PROMPT.format(context=context_str, ticket_text=ticket_text)\n",
    "    ).content.strip()\n",
    "\n",
    "\n",
    "tools = [classify_ticket, retrieve_knowledge, draft_response]"
   ]
  },
  {
   "cell_type": "markdown",
   "id": "326a1c9d",
   "metadata": {},
   "source": [
    "### Nodes\n"
   ]
  },
  {
   "cell_type": "code",
   "execution_count": 17,
   "id": "f65a55a2",
   "metadata": {},
   "outputs": [],
   "source": [
    "AGENT_SYSTEM_PROMPT = \"\"\"\n",
    "You are an expert support ticket triager. Your goal is to process a user's ticket by taking the following steps:\n",
    "1. First, classify the ticket to understand its category.\n",
    "2. If the ticket is a 'Technical Issue', retrieve relevant knowledge.\n",
    "3. Finally, draft a response to the user.\n",
    "You must use the provided tools to perform these actions in sequence. Respond ONLY with the final drafted response once all steps are complete.\n",
    "\"\"\"\n",
    "\n",
    "agent_prompt = ChatPromptTemplate.from_messages(\n",
    "    [\n",
    "        (\"system\", AGENT_SYSTEM_PROMPT),\n",
    "        (\"placeholder\", \"{messages}\"),\n",
    "    ]\n",
    ")\n",
    "\n",
    "llm_with_tools = llm.bind_tools(tools)\n",
    "agent = agent_prompt | llm_with_tools"
   ]
  },
  {
   "cell_type": "code",
   "execution_count": 18,
   "id": "3f192d65",
   "metadata": {},
   "outputs": [],
   "source": [
    "class AgentState(TypedDict):\n",
    "    messages: Annotated[list[AnyMessage], add_messages]\n",
    "\n",
    "\n",
    "def agent_node(state: AgentState):\n",
    "    response = agent.invoke(state)\n",
    "    return {\"messages\": [response]}"
   ]
  },
  {
   "cell_type": "code",
   "execution_count": 19,
   "id": "57a84dd8",
   "metadata": {},
   "outputs": [],
   "source": [
    "tool_node = ToolNode(tools)\n",
    "\n",
    "\n",
    "def should_continue(state: AgentState) -> str:\n",
    "    \"\"\"\n",
    "    Determines whether to continue the loop by calling tools or end the process.\n",
    "    \"\"\"\n",
    "    last_message = state[\"messages\"][-1]\n",
    "    if not last_message.tool_calls:\n",
    "        return \"end\"\n",
    "    return \"continue\""
   ]
  },
  {
   "cell_type": "markdown",
   "id": "355a7e76",
   "metadata": {},
   "source": [
    "### Graph\n"
   ]
  },
  {
   "cell_type": "code",
   "execution_count": 20,
   "id": "37039306",
   "metadata": {},
   "outputs": [],
   "source": [
    "agent_graph = StateGraph(AgentState)\n",
    "\n",
    "agent_graph.add_node(\"agent\", agent_node)\n",
    "agent_graph.add_node(\"tools\", tool_node)\n",
    "\n",
    "agent_graph.set_entry_point(\"agent\")\n",
    "\n",
    "agent_graph.add_conditional_edges(\n",
    "    \"agent\",\n",
    "    should_continue,\n",
    "    {\n",
    "        \"continue\": \"tools\",\n",
    "        \"end\": END,\n",
    "    },\n",
    ")\n",
    "\n",
    "agent_graph.add_edge(\"tools\", \"agent\")\n",
    "\n",
    "agent_app = agent_graph.compile()"
   ]
  },
  {
   "cell_type": "code",
   "execution_count": 21,
   "id": "47216be1",
   "metadata": {},
   "outputs": [
    {
     "data": {
      "image/png": "[encoded data removed]",
      "text/plain": [
       "<IPython.core.display.Image object>"
      ]
     },
     "metadata": {},
     "output_type": "display_data"
    }
   ],
   "source": [
    "display(Image(agent_app.get_graph().draw_mermaid_png()))"
   ]
  },
  {
   "cell_type": "markdown",
   "id": "39b6e9cc",
   "metadata": {},
   "source": [
    "### Run the Agent\n"
   ]
  },
  {
   "cell_type": "code",
   "execution_count": 22,
   "id": "88fbbf26",
   "metadata": {},
   "outputs": [
    {
     "name": "stdout",
     "output_type": "stream",
     "text": [
      "Agent\n",
      "<think>\n",
      "Okay, the user says, \"My login is broken, please help!\" Let me break this down.\n",
      "\n",
      "First, I need to classify the ticket. The user is having trouble logging in, which sounds like a technical issue. The classify_ticket function should handle this. The parameters require the ticket_text, which is the user's message. So I'll call classify_ticket with that text.\n",
      "\n",
      "Once classified as a Technical Issue, the next step is to retrieve relevant knowledge. Using retrieve_knowledge with the same ticket_text to find articles related to login problems. This will help identify possible solutions.\n",
      "\n",
      "After getting the knowledge articles, I'll use draft_response. The context from retrieve_knowledge will be used here along with the ticket_text to create a helpful reply. The response should address the login issue based on the retrieved info.\n",
      "\n",
      "I need to make sure each step is followed in order: classify, retrieve, then draft. Each function call is necessary to build the response properly. Let me structure the tool calls accordingly.\n",
      "</think>\n",
      "\n",
      "\n",
      "Tool calls:\n",
      "[{'name': 'classify_ticket', 'args': {'ticket_text': 'My login is broken, please help!'}, 'id': '893810d4-349e-4d2e-904f-91c870bc573c', 'type': 'tool_call'}]\n",
      "\n",
      "---\n",
      "\n",
      "Tool response:\n",
      "<think>\n",
      "Okay, let's see. The user has a support ticket that says, \"My login is broken, please help!\" I need to classify this into Technical Issue, Billing Inquiry, or General Question.\n",
      "\n",
      "First, the problem mentioned is about the login not working. That sounds like a technical problem because it's related to accessing the system or service. Billing inquiries usually involve questions about payments, invoices, or subscription costs. General questions might be about features, policies, or other non-technical matters. Since the user is having trouble logging in, which is a functionality issue, this should fall under Technical Issue. There's no mention of billing or general information requests here. So the correct category is Technical Issue.\n",
      "</think>\n",
      "\n",
      "The ticket \"My login is broken, please help!\" should be classified under **Technical Issue**. \n",
      "\n",
      "**Reasoning**: The user is reporting a problem with their login functionality, which is a technical malfunction related to system access. This does not pertain to billing or general informational queries.\n",
      "\n",
      "---\n",
      "\n",
      "Agent\n",
      "<think>\n",
      "\n",
      "Tool calls:\n",
      "[{'name': 'retrieve_knowledge', 'args': {'ticket_text': 'My login is broken, please help!'}, 'id': 'cc13a050-0c0b-43a2-a0ed-9f04a12cc95d', 'type': 'tool_call'}]\n",
      "\n",
      "---\n",
      "\n",
      "Tool response:\n",
      "[\"For login issues, tell the user to try resetting their password via the 'Forgot Password' link.\", \"The app is known to crash on startup if the user's cache is corrupted. The standard fix is to clear the application cache.\", \"Billing inquiries should be escalated to the billing department by creating a ticket in Salesforce.\"]\n",
      "\n",
      "---\n",
      "\n",
      "Agent\n",
      "<think>\n",
      "</think>\n",
      "\n",
      "\n",
      "Tool calls:\n",
      "[{'name': 'draft_response', 'args': {'context': [\"For login issues, tell the user to try resetting their password via the 'Forgot Password' link.\", \"The app is known to crash on startup if the user's cache is corrupted. The standard fix is to clear the application cache.\", 'Billing inquiries should be escalated to the billing department by creating a ticket in Salesforce.'], 'ticket_text': 'My login is broken, please help!'}, 'id': 'a9651b93-b180-4079-8073-be9caa400434', 'type': 'tool_call'}]\n",
      "\n",
      "---\n",
      "\n",
      "Tool response:\n",
      "<think>\n",
      "Okay, the user is having a login issue. Let me check the context first. The context says that for login issues, the user should try resetting their password via the 'Forgot Password' link. So the first step is to direct them to that link.\n",
      "\n",
      "Wait, but maybe there's more. The app can crash on startup if the cache is corrupted, and the fix is to clear the cache. However, the user mentioned login issues, not a crash on startup. But maybe the cache issue could be related. Should I mention clearing the cache as an additional step?\n",
      "\n",
      "Hmm, the context separates login issues from the cache crash. The user's main problem is login, so the primary solution is the password reset. But maybe I should mention clearing the cache as a possible troubleshooting step in case the login issue is related to the cache. However, the context says the cache issue causes a crash on startup, not necessarily login problems. So maybe it's better to stick to the direct solution for login.\n",
      "\n",
      "Also, billing inquiries are to be escalated to Salesforce. But the user's ticket is about login, so that's not relevant here. So the response should first suggest using the 'Forgot Password' link. Then, if that doesn't work, maybe check if the cache is the issue. But since the context says the cache issue causes a crash on startup, not login problems, maybe I shouldn't include that unless the user mentions the app crashing. \n",
      "\n",
      "Wait, the user's ticket is \"My login is broken, please help!\" So the primary action is password reset. The response should guide them through that. Maybe add a note that if they can't reset the password, they can try clearing the cache, but it's a secondary step. But I need to check if the cache issue is related to login. The context says the app crashes on startup if the cache is corrupted. So maybe the login issue is separate. Therefore, the main step is the password reset. \n",
      "\n",
      "So the response should first direct them to the 'Forgot Password' link. Then, if that doesn't work, maybe suggest clearing the cache. But the user might not know how to clear the cache. Should I include instructions on how to clear the cache? The context says the standard fix is to clear the application cache, but the user's problem is login, not startup crash. Maybe it's better to mention the cache step as an alternative if the password reset doesn't work. \n",
      "\n",
      "Alternatively, the user might have a corrupted cache causing login issues, even though the context says it crashes on startup. Maybe the user is experiencing login issues because the cache is corrupted, leading to login problems. So perhaps it's safer to include both steps. \n",
      "\n",
      "In the context, the login issue is addressed first. So the response should start with the password reset. Then, if that doesn't resolve it, suggest clearing the cache. That way, the user has the primary solution and a secondary step. \n",
      "\n",
      "So the response would be: \n",
      "\n",
      "\"Hello, we're sorry to hear about your login issue. Please try resetting your password using the 'Forgot Password' link. If you're still unable to log in, please clear the application cache. If the issue persists, feel free to reach out for further assistance.\"\n",
      "\n",
      "Wait, but the context says the cache issue causes a crash on startup. So maybe the user's login issue is separate. But to be thorough, including both steps might cover possible scenarios. However, the user might not have a crash on startup, just login issues. So maybe the cache step is not necessary. \n",
      "\n",
      "Alternatively, the login issue could be related to the cache, so it's better to mention it as an additional step. The context says the app is known to crash on startup if the cache is corrupted. So the cache issue is a separate problem. Therefore, the login issue is likely the password problem. So the main step is the password reset. \n",
      "\n",
      "So the response should focus on the password reset first. If that doesn't work, maybe check other issues. But the user might not know how to clear the cache. So perhaps include instructions. \n",
      "\n",
      "But the user's ticket is straightforward. The best approach is to follow the context's advice for login issues and direct them to the password reset. Then, if they need further help, they can escalate. \n",
      "\n",
      "So the response would be: \n",
      "\n",
      "\"Hello, we're sorry to hear about your login issue. Please try resetting your password via the 'Forgot, Password' link. If you continue to experience problems, please provide additional details so we can assist you further.\"\n",
      "\n",
      "But the context also mentions clearing the cache as a standard fix. However, the user's issue is login, not a crash. Maybe the cache is not the cause, but to be safe, include it as an alternative step. \n",
      "\n",
      "So the final response would be: \n",
      "\n",
      "\"Hello, we're sorry to hear about your login issue. Please try resetting your password via the 'Forgot Password' link. If you're still unable to log in, you may also need to clear the application cache. If the issue persists, feel free to reach out for further assistance.\"\n",
      "\n",
      "That covers both the password reset and the cache step, which might be helpful if the user's login issue is related to the cache. But the context says the cache issue causes a crash on startup, not login problems. So maybe it's better to stick to the password reset. \n",
      "\n",
      "Hmm, this is a bit confusing. The context says login issues should be addressed with password reset, and cache issues cause crashes on startup. So the user's login issue is separate. Therefore, the response should focus on the password reset. \n",
      "\n",
      "So the response should be: \n",
      "\n",
      "\"Hello, we're sorry to hear about your login issue. Please try resetting your password via the 'Forgot Password' link. If you're still unable to log in, please provide additional details so we can assist you further.\"\n",
      "\n",
      "That's the safest approach based on the context provided. The cache issue is for crashes on startup, not login problems. So the main solution is the password reset.\n",
      "</think>\n",
      "\n",
      "**Ticket Response:**  \n",
      "Hello, we're sorry to hear about your login issue. Please try resetting your password via the **'Forgot Password'** link. If you continue to experience problems, feel free to provide additional details so we can assist you further.  \n",
      "\n",
      "**Note:** If clearing the application cache resolves the issue, you may also try that as an additional troubleshooting step. Let us know how it goes!\n",
      "\n",
      "---\n",
      "\n",
      "Agent\n",
      "<think>\n",
      "</think>\n",
      "\n",
      "**Ticket Response:**  \n",
      "Hello, we're sorry to hear about your login issue. Please try resetting your password via the **'Forgot Password'** link. If you continue to experience problems, feel free to provide additional details so we can assist you further.  \n",
      "\n",
      "**Note:** If clearing the application cache resolves the issue, you may also try that as an additional troubleshooting step. Let us know how it goes!\n",
      "\n",
      "---\n",
      "\n"
     ]
    }
   ],
   "source": [
    "initial_state = AgentState(\n",
    "    messages=[HumanMessage(content=\"My login is broken, please help!\")]\n",
    ")\n",
    "for entry in agent_app.stream(initial_state, stream_mode=\"updates\"):\n",
    "    messages_dict = next(iter(entry.values()))\n",
    "    message = messages_dict[\"messages\"][0]\n",
    "    if \"agent\" in entry:\n",
    "        print(\"Agent\")\n",
    "        print(message.content)\n",
    "        if message.tool_calls:\n",
    "            print(\"Tool calls:\")\n",
    "            print(message.tool_calls)\n",
    "    elif \"tools\" in entry:\n",
    "        print(\"Tool response:\")\n",
    "        print(message.content)\n",
    "    print()\n",
    "    print(\"---\")\n",
    "    print()"
   ]
  }
 ],
 "metadata": {
  "kernelspec": {
   "display_name": "mlexpert",
   "language": "python",
   "name": "python3"
  },
  "language_info": {
   "codemirror_mode": {
    "name": "ipython",
    "version": 3
   },
   "file_extension": ".py",
   "mimetype": "text/x-python",
   "name": "python",
   "nbconvert_exporter": "python",
   "pygments_lexer": "ipython3",
   "version": "3.12.4"
  }
 },
 "nbformat": 4,
 "nbformat_minor": 5
}
